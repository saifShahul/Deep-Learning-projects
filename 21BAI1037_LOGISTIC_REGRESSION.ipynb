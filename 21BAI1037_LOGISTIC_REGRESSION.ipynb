{
  "cells": [
    {
      "cell_type": "code",
      "execution_count": 38,
      "metadata": {
        "id": "D6VEDr08Pz-C"
      },
      "outputs": [],
      "source": [
        "#Design a dense neural network to perform Logistic regression task\n",
        "#21BAI1037 Saif Shahul "
      ]
    },
    {
      "cell_type": "code",
      "execution_count": 49,
      "metadata": {
        "id": "cfqZ0MtOOQpF"
      },
      "outputs": [],
      "source": [
        "\n",
        "import numpy as np\n",
        "import tensorflow as tf"
      ]
    },
    {
      "cell_type": "code",
      "execution_count": 40,
      "metadata": {
        "id": "V7-kP6UPOoXF"
      },
      "outputs": [],
      "source": [
        "np.random.seed(0)\n",
        "X_train = np.random.rand(100, 2) * 10\n",
        "y_train = np.random.randint(2, size=(100, 1))"
      ]
    },
    {
      "cell_type": "code",
      "execution_count": 41,
      "metadata": {
        "id": "Q9mGgasaOoUv"
      },
      "outputs": [],
      "source": [
        "X_mean = np.mean(X_train, axis=0)\n",
        "X_std = np.std(X_train, axis=0)\n",
        "X_train = (X_train - X_mean) / X_std"
      ]
    },
    {
      "cell_type": "code",
      "execution_count": 42,
      "metadata": {
        "id": "9XWaO2KJOoSr"
      },
      "outputs": [],
      "source": [
        "model = tf.keras.Sequential([\n",
        "    tf.keras.layers.Dense(16, activation='relu', input_shape=(2,)),\n",
        "    tf.keras.layers.Dense(1, activation='sigmoid')\n",
        "])"
      ]
    },
    {
      "cell_type": "code",
      "execution_count": 43,
      "metadata": {
        "id": "w3e_q0-MOoQk"
      },
      "outputs": [],
      "source": [
        "model.compile(optimizer=tf.keras.optimizers.Adam(learning_rate=0.001),\n",
        "              loss='binary_crossentropy',\n",
        "              metrics=['accuracy'])"
      ]
    },
    {
      "cell_type": "code",
      "execution_count": 44,
      "metadata": {
        "colab": {
          "base_uri": "https://localhost:8080/"
        },
        "id": "607ewcoAOoOg",
        "outputId": "8e6281f4-1dd7-4943-b58c-b3a65ffe568f"
      },
      "outputs": [
        {
          "data": {
            "text/plain": [
              "<keras.src.callbacks.History at 0x7e08c9bdd450>"
            ]
          },
          "execution_count": 44,
          "metadata": {},
          "output_type": "execute_result"
        }
      ],
      "source": [
        "model.fit(X_train, y_train, epochs=100, verbose=0)"
      ]
    },
    {
      "cell_type": "code",
      "execution_count": 45,
      "metadata": {
        "id": "EPUeiOnDOoMG"
      },
      "outputs": [],
      "source": [
        "X_test = np.array([[1.5, 2.5], [2.5, 3.5], [3.5, 4.5]])\n",
        "y_test = np.array([[0], [1], [0]])"
      ]
    },
    {
      "cell_type": "code",
      "execution_count": 46,
      "metadata": {
        "id": "PQdNURIzOoKL"
      },
      "outputs": [],
      "source": [
        "X_test = (X_test - X_mean) / X_std"
      ]
    },
    {
      "cell_type": "code",
      "execution_count": 47,
      "metadata": {
        "colab": {
          "base_uri": "https://localhost:8080/"
        },
        "id": "A3sA4G2vOoH2",
        "outputId": "e62280d1-9459-4a3c-ed6a-42307582209d"
      },
      "outputs": [
        {
          "name": "stderr",
          "output_type": "stream",
          "text": [
            "WARNING:tensorflow:6 out of the last 8 calls to <function Model.make_test_function.<locals>.test_function at 0x7e08ba211d80> triggered tf.function retracing. Tracing is expensive and the excessive number of tracings could be due to (1) creating @tf.function repeatedly in a loop, (2) passing tensors with different shapes, (3) passing Python objects instead of tensors. For (1), please define your @tf.function outside of the loop. For (2), @tf.function has reduce_retracing=True option that can avoid unnecessary retracing. For (3), please refer to https://www.tensorflow.org/guide/function#controlling_retracing and https://www.tensorflow.org/api_docs/python/tf/function for  more details.\n"
          ]
        },
        {
          "name": "stdout",
          "output_type": "stream",
          "text": [
            "1/1 [==============================] - 0s 141ms/step - loss: 0.6943 - accuracy: 0.6667\n",
            "Test loss: 0.6942753791809082\n",
            "Test accuracy: 0.6666666865348816\n"
          ]
        }
      ],
      "source": [
        "loss, accuracy = model.evaluate(X_test, y_test)\n",
        "print('Test loss:', loss)\n",
        "print('Test accuracy:', accuracy)"
      ]
    },
    {
      "cell_type": "code",
      "execution_count": 48,
      "metadata": {
        "colab": {
          "base_uri": "https://localhost:8080/"
        },
        "id": "-I55_-TqOoFe",
        "outputId": "fb50e0ec-1cf2-415c-b9f2-4e1d74b409f0"
      },
      "outputs": [
        {
          "name": "stdout",
          "output_type": "stream",
          "text": [
            "1/1 [==============================] - 0s 51ms/step\n",
            "Predictions:\n",
            "[[0.45967066]\n",
            " [0.5002982 ]\n",
            " [0.5391574 ]]\n"
          ]
        }
      ],
      "source": [
        "predictions = model.predict(X_test)\n",
        "print('Predictions:')\n",
        "print(predictions)"
      ]
    }
  ],
  "metadata": {
    "colab": {
      "provenance": []
    },
    "kernelspec": {
      "display_name": "Python 3",
      "name": "python3"
    },
    "language_info": {
      "name": "python"
    }
  },
  "nbformat": 4,
  "nbformat_minor": 0
}
