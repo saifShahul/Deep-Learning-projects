{
  "nbformat": 4,
  "nbformat_minor": 0,
  "metadata": {
    "colab": {
      "provenance": [],
      "gpuType": "T4"
    },
    "kernelspec": {
      "name": "python3",
      "display_name": "Python 3"
    },
    "language_info": {
      "name": "python"
    },
    "accelerator": "GPU"
  },
  "cells": [
    {
      "cell_type": "code",
      "execution_count": 1,
      "metadata": {
        "id": "O8zvcUI1c4BH"
      },
      "outputs": [],
      "source": [
        "from google.colab import drive\n",
        "import numpy as np\n",
        "import pandas as pd\n",
        "from sklearn.model_selection import StratifiedKFold\n",
        "from tensorflow.keras.applications import VGG16\n",
        "from tensorflow.keras.models import Sequential\n",
        "from tensorflow.keras.layers import Flatten, Dense, Dropout\n",
        "from tensorflow.keras.optimizers import Adam\n",
        "from tensorflow.keras.regularizers import l2\n",
        "from tensorflow.keras.preprocessing.image import ImageDataGenerator\n",
        "from sklearn.metrics import accuracy_score, precision_score, recall_score, f1_score"
      ]
    },
    {
      "cell_type": "code",
      "source": [
        "drive.mount('/content/drive')"
      ],
      "metadata": {
        "colab": {
          "base_uri": "https://localhost:8080/"
        },
        "id": "6Wj6VD0lc4_Y",
        "outputId": "1936269e-0993-4999-cdad-a3c02a36460f"
      },
      "execution_count": 2,
      "outputs": [
        {
          "output_type": "stream",
          "name": "stdout",
          "text": [
            "Mounted at /content/drive\n"
          ]
        }
      ]
    },
    {
      "cell_type": "code",
      "source": [
        "image_folder = '/content/drive/MyDrive/Images_CNNTask'  # Update this to the path of your image folder\n",
        "batch_size = 32\n",
        "image_size = (224, 224)\n",
        "num_classes = 2"
      ],
      "metadata": {
        "id": "TpEwXGy8dGOI"
      },
      "execution_count": 3,
      "outputs": []
    },
    {
      "cell_type": "code",
      "source": [
        "datagen = ImageDataGenerator(\n",
        "    rescale=1./255,\n",
        "    rotation_range=20,\n",
        "    width_shift_range=0.2,\n",
        "    height_shift_range=0.2,\n",
        "    shear_range=0.2,\n",
        "    zoom_range=0.2,\n",
        "    horizontal_flip=True,\n",
        "    fill_mode='nearest',\n",
        "    validation_split=0.2\n",
        ")"
      ],
      "metadata": {
        "id": "IbINCKJmdI-F"
      },
      "execution_count": 4,
      "outputs": []
    },
    {
      "cell_type": "code",
      "source": [
        "train_generator = datagen.flow_from_directory(\n",
        "    image_folder,\n",
        "    target_size=image_size,\n",
        "    batch_size=batch_size,\n",
        "    class_mode='categorical',\n",
        "    subset='training'\n",
        ")"
      ],
      "metadata": {
        "colab": {
          "base_uri": "https://localhost:8080/"
        },
        "id": "ltwyXaCDdKmk",
        "outputId": "ef9884b3-62a3-4234-d7ac-93babf596b14"
      },
      "execution_count": 5,
      "outputs": [
        {
          "output_type": "stream",
          "name": "stdout",
          "text": [
            "Found 266 images belonging to 2 classes.\n"
          ]
        }
      ]
    },
    {
      "cell_type": "code",
      "source": [
        "generator = datagen.flow_from_directory(\n",
        "    image_folder,\n",
        "    target_size=image_size,\n",
        "    batch_size=batch_size,\n",
        "    class_mode='categorical',\n",
        "    subset='training'\n",
        ")"
      ],
      "metadata": {
        "colab": {
          "base_uri": "https://localhost:8080/"
        },
        "id": "aLzh5AKXdNoh",
        "outputId": "ef0b74df-b3c4-40b1-e315-474bfdbe133f"
      },
      "execution_count": 6,
      "outputs": [
        {
          "output_type": "stream",
          "name": "stdout",
          "text": [
            "Found 266 images belonging to 2 classes.\n"
          ]
        }
      ]
    },
    {
      "cell_type": "code",
      "source": [
        "val_generator = datagen.flow_from_directory(\n",
        "    image_folder,\n",
        "    target_size=image_size,\n",
        "    batch_size=batch_size,\n",
        "    class_mode='categorical',\n",
        "    subset='validation'\n",
        ")"
      ],
      "metadata": {
        "colab": {
          "base_uri": "https://localhost:8080/"
        },
        "id": "h3wMt8tFdQHB",
        "outputId": "5065c491-b2fc-4f49-d81b-4d9e324739d0"
      },
      "execution_count": 7,
      "outputs": [
        {
          "output_type": "stream",
          "name": "stdout",
          "text": [
            "Found 65 images belonging to 2 classes.\n"
          ]
        }
      ]
    },
    {
      "cell_type": "code",
      "source": [
        "base_model = VGG16(weights='imagenet', include_top=False, input_shape=(224, 224, 3))"
      ],
      "metadata": {
        "colab": {
          "base_uri": "https://localhost:8080/"
        },
        "id": "8WXxVCecdSth",
        "outputId": "8fc77720-85b8-4de4-ae3f-47730101df25"
      },
      "execution_count": 8,
      "outputs": [
        {
          "output_type": "stream",
          "name": "stdout",
          "text": [
            "Downloading data from https://storage.googleapis.com/tensorflow/keras-applications/vgg16/vgg16_weights_tf_dim_ordering_tf_kernels_notop.h5\n",
            "58889256/58889256 [==============================] - 4s 0us/step\n"
          ]
        }
      ]
    },
    {
      "cell_type": "code",
      "source": [
        "model = Sequential([\n",
        "    base_model,\n",
        "    Flatten(),\n",
        "    Dense(256, activation='relu', kernel_regularizer=l2(0.01)),\n",
        "    Dropout(0.5),\n",
        "    Dense(2, activation='sigmoid')  # Assuming binary classification\n",
        "])"
      ],
      "metadata": {
        "id": "DwiXVg30dUs0"
      },
      "execution_count": 9,
      "outputs": []
    },
    {
      "cell_type": "code",
      "source": [
        "model.compile(optimizer=Adam(learning_rate=0.0001), loss='binary_crossentropy', metrics=['accuracy'])"
      ],
      "metadata": {
        "id": "yIuOUI4ddXCa"
      },
      "execution_count": 10,
      "outputs": []
    },
    {
      "cell_type": "code",
      "source": [
        "class_column = list(generator.class_indices.keys())[0]"
      ],
      "metadata": {
        "id": "RwE7iSCrdY7m"
      },
      "execution_count": 11,
      "outputs": []
    },
    {
      "cell_type": "code",
      "source": [
        "accuracy_scores = []\n",
        "precision_scores = []\n",
        "recall_scores = []\n",
        "f1_scores = []"
      ],
      "metadata": {
        "id": "3Ks8Qcpkdav8"
      },
      "execution_count": 12,
      "outputs": []
    },
    {
      "cell_type": "code",
      "source": [
        "num_folds = 5\n",
        "kfold = StratifiedKFold(n_splits=num_folds, shuffle=True, random_state=42)\n",
        "epochs=15"
      ],
      "metadata": {
        "id": "NAUmMty9diHM"
      },
      "execution_count": 19,
      "outputs": []
    },
    {
      "cell_type": "code",
      "source": [
        "for fold, (train_index, val_index) in enumerate(kfold.split(np.array(generator.filenames), np.array(generator.classes))):\n",
        "    X_train, X_val = np.array(generator.filenames)[train_index], np.array(generator.filenames)[val_index]\n",
        "    y_train, y_val = np.array(generator.classes)[train_index], np.array(generator.classes)[val_index]\n",
        "\n",
        "    train_df = pd.DataFrame({'filename': X_train, 'class': y_train.astype(str)})\n",
        "    val_df = pd.DataFrame({'filename': X_val, 'class': y_val.astype(str)})\n",
        "\n",
        "    train_generator = datagen.flow_from_dataframe(\n",
        "        dataframe=train_df,\n",
        "        directory=image_folder,\n",
        "        target_size=image_size,\n",
        "        batch_size=batch_size,\n",
        "        class_mode='categorical',\n",
        "        y_col='class'\n",
        "    )\n",
        "\n",
        "    val_generator = datagen.flow_from_dataframe(\n",
        "        dataframe=val_df,\n",
        "        directory=image_folder,\n",
        "        target_size=image_size,\n",
        "        batch_size=batch_size,\n",
        "        class_mode='categorical',\n",
        "        y_col='class'\n",
        "    )\n",
        "\n",
        "    # Train the model for each fold\n",
        "    model.fit(\n",
        "        train_generator,\n",
        "        epochs=epochs,\n",
        "        validation_data=val_generator\n",
        "    )\n",
        "\n",
        "    # Make predictions on the validation set\n",
        "    y_pred = model.predict(val_generator)\n",
        "    y_pred_labels = np.argmax(y_pred, axis=1)\n",
        "    y_true = val_generator.classes\n",
        "\n",
        "    # Calculate and store the metrics for the fold\n",
        "    accuracy_scores.append(accuracy_score(y_true, y_pred_labels))\n",
        "    precision_scores.append(precision_score(y_true, y_pred_labels))\n",
        "    recall_scores.append(recall_score(y_true, y_pred_labels))\n",
        "    f1_scores.append(f1_score(y_true, y_pred_labels))"
      ],
      "metadata": {
        "colab": {
          "base_uri": "https://localhost:8080/"
        },
        "id": "LQyOPNlhdkiL",
        "outputId": "65c5d4b6-6910-4150-c64b-b3ec0d4d83bd"
      },
      "execution_count": 20,
      "outputs": [
        {
          "output_type": "stream",
          "name": "stdout",
          "text": [
            "Found 212 validated image filenames belonging to 2 classes.\n",
            "Found 54 validated image filenames belonging to 2 classes.\n",
            "Epoch 1/15\n",
            "7/7 [==============================] - 6s 814ms/step - loss: 0.4642 - accuracy: 0.7594 - val_loss: 0.4171 - val_accuracy: 0.8704\n",
            "Epoch 2/15\n",
            "7/7 [==============================] - 6s 931ms/step - loss: 0.4627 - accuracy: 0.7594 - val_loss: 0.4187 - val_accuracy: 0.8148\n",
            "Epoch 3/15\n",
            "7/7 [==============================] - 5s 686ms/step - loss: 0.4715 - accuracy: 0.7170 - val_loss: 0.3979 - val_accuracy: 0.8148\n",
            "Epoch 4/15\n",
            "7/7 [==============================] - 7s 980ms/step - loss: 0.4456 - accuracy: 0.7500 - val_loss: 0.3930 - val_accuracy: 0.7593\n",
            "Epoch 5/15\n",
            "7/7 [==============================] - 5s 678ms/step - loss: 0.4335 - accuracy: 0.7877 - val_loss: 0.3822 - val_accuracy: 0.7963\n",
            "Epoch 6/15\n",
            "7/7 [==============================] - 5s 675ms/step - loss: 0.4108 - accuracy: 0.8113 - val_loss: 0.3124 - val_accuracy: 0.9259\n",
            "Epoch 7/15\n",
            "7/7 [==============================] - 6s 857ms/step - loss: 0.3771 - accuracy: 0.8538 - val_loss: 0.4401 - val_accuracy: 0.7593\n",
            "Epoch 8/15\n",
            "7/7 [==============================] - 5s 698ms/step - loss: 0.3889 - accuracy: 0.8302 - val_loss: 0.3530 - val_accuracy: 0.7963\n",
            "Epoch 9/15\n",
            "7/7 [==============================] - 7s 1s/step - loss: 0.4150 - accuracy: 0.7830 - val_loss: 0.4070 - val_accuracy: 0.7593\n",
            "Epoch 10/15\n",
            "7/7 [==============================] - 5s 682ms/step - loss: 0.4131 - accuracy: 0.7594 - val_loss: 0.3792 - val_accuracy: 0.7778\n",
            "Epoch 11/15\n",
            "7/7 [==============================] - 7s 981ms/step - loss: 0.3817 - accuracy: 0.7547 - val_loss: 0.3743 - val_accuracy: 0.7778\n",
            "Epoch 12/15\n",
            "7/7 [==============================] - 5s 754ms/step - loss: 0.4071 - accuracy: 0.8160 - val_loss: 0.3476 - val_accuracy: 0.7963\n",
            "Epoch 13/15\n",
            "7/7 [==============================] - 6s 855ms/step - loss: 0.4464 - accuracy: 0.7783 - val_loss: 0.4005 - val_accuracy: 0.7593\n",
            "Epoch 14/15\n",
            "7/7 [==============================] - 5s 699ms/step - loss: 0.4179 - accuracy: 0.7830 - val_loss: 0.4206 - val_accuracy: 0.7222\n",
            "Epoch 15/15\n",
            "7/7 [==============================] - 6s 893ms/step - loss: 0.3909 - accuracy: 0.7972 - val_loss: 0.3661 - val_accuracy: 0.8333\n",
            "2/2 [==============================] - 1s 311ms/step\n",
            "Found 213 validated image filenames belonging to 2 classes.\n",
            "Found 53 validated image filenames belonging to 2 classes.\n",
            "Epoch 1/15\n",
            "7/7 [==============================] - 5s 762ms/step - loss: 0.3563 - accuracy: 0.8404 - val_loss: 0.6506 - val_accuracy: 0.8113\n",
            "Epoch 2/15\n",
            "7/7 [==============================] - 6s 887ms/step - loss: 0.5349 - accuracy: 0.8122 - val_loss: 0.4225 - val_accuracy: 0.8113\n",
            "Epoch 3/15\n",
            "7/7 [==============================] - 5s 675ms/step - loss: 0.4146 - accuracy: 0.8075 - val_loss: 0.3847 - val_accuracy: 0.8113\n",
            "Epoch 4/15\n",
            "7/7 [==============================] - 7s 984ms/step - loss: 0.3825 - accuracy: 0.8169 - val_loss: 0.3577 - val_accuracy: 0.8491\n",
            "Epoch 5/15\n",
            "7/7 [==============================] - 5s 692ms/step - loss: 0.3340 - accuracy: 0.8498 - val_loss: 0.3514 - val_accuracy: 0.8302\n",
            "Epoch 6/15\n",
            "7/7 [==============================] - 5s 707ms/step - loss: 0.3390 - accuracy: 0.8592 - val_loss: 0.3477 - val_accuracy: 0.8679\n",
            "Epoch 7/15\n",
            "7/7 [==============================] - 6s 833ms/step - loss: 0.3163 - accuracy: 0.8638 - val_loss: 0.3115 - val_accuracy: 0.8302\n",
            "Epoch 8/15\n",
            "7/7 [==============================] - 5s 707ms/step - loss: 0.3144 - accuracy: 0.8638 - val_loss: 0.3278 - val_accuracy: 0.8491\n",
            "Epoch 9/15\n",
            "7/7 [==============================] - 6s 892ms/step - loss: 0.3292 - accuracy: 0.8685 - val_loss: 0.3549 - val_accuracy: 0.8491\n",
            "Epoch 10/15\n",
            "7/7 [==============================] - 5s 727ms/step - loss: 0.3526 - accuracy: 0.8451 - val_loss: 0.3805 - val_accuracy: 0.8302\n",
            "Epoch 11/15\n",
            "7/7 [==============================] - 5s 798ms/step - loss: 0.3642 - accuracy: 0.7981 - val_loss: 0.3463 - val_accuracy: 0.8491\n",
            "Epoch 12/15\n",
            "7/7 [==============================] - 5s 695ms/step - loss: 0.3111 - accuracy: 0.8638 - val_loss: 0.3296 - val_accuracy: 0.8491\n",
            "Epoch 13/15\n",
            "7/7 [==============================] - 6s 902ms/step - loss: 0.2971 - accuracy: 0.8685 - val_loss: 0.3906 - val_accuracy: 0.8491\n",
            "Epoch 14/15\n",
            "7/7 [==============================] - 5s 688ms/step - loss: 0.2848 - accuracy: 0.9014 - val_loss: 0.2909 - val_accuracy: 0.8679\n",
            "Epoch 15/15\n",
            "7/7 [==============================] - 7s 1s/step - loss: 0.2628 - accuracy: 0.8967 - val_loss: 0.2483 - val_accuracy: 0.8868\n",
            "2/2 [==============================] - 1s 369ms/step\n",
            "Found 213 validated image filenames belonging to 2 classes.\n",
            "Found 53 validated image filenames belonging to 2 classes.\n",
            "Epoch 1/15\n",
            "7/7 [==============================] - 5s 773ms/step - loss: 0.3891 - accuracy: 0.7934 - val_loss: 0.3566 - val_accuracy: 0.8491\n",
            "Epoch 2/15\n",
            "7/7 [==============================] - 6s 912ms/step - loss: 0.3857 - accuracy: 0.7793 - val_loss: 0.4084 - val_accuracy: 0.8113\n",
            "Epoch 3/15\n",
            "7/7 [==============================] - 5s 763ms/step - loss: 0.3532 - accuracy: 0.8216 - val_loss: 0.3343 - val_accuracy: 0.8679\n",
            "Epoch 4/15\n",
            "7/7 [==============================] - 5s 763ms/step - loss: 0.3265 - accuracy: 0.8498 - val_loss: 0.4305 - val_accuracy: 0.7925\n",
            "Epoch 5/15\n",
            "7/7 [==============================] - 5s 717ms/step - loss: 0.3289 - accuracy: 0.8779 - val_loss: 0.2808 - val_accuracy: 0.8679\n",
            "Epoch 6/15\n",
            "7/7 [==============================] - 6s 963ms/step - loss: 0.3139 - accuracy: 0.8638 - val_loss: 0.2645 - val_accuracy: 0.9434\n",
            "Epoch 7/15\n",
            "7/7 [==============================] - 5s 750ms/step - loss: 0.2787 - accuracy: 0.9014 - val_loss: 0.2498 - val_accuracy: 0.8868\n",
            "Epoch 8/15\n",
            "7/7 [==============================] - 6s 865ms/step - loss: 0.2784 - accuracy: 0.8967 - val_loss: 0.2236 - val_accuracy: 0.8868\n",
            "Epoch 9/15\n",
            "7/7 [==============================] - 5s 747ms/step - loss: 0.2680 - accuracy: 0.9014 - val_loss: 0.3303 - val_accuracy: 0.8302\n",
            "Epoch 10/15\n",
            "7/7 [==============================] - 6s 895ms/step - loss: 0.3035 - accuracy: 0.8732 - val_loss: 0.2966 - val_accuracy: 0.8679\n",
            "Epoch 11/15\n",
            "7/7 [==============================] - 5s 671ms/step - loss: 0.2846 - accuracy: 0.8967 - val_loss: 0.3453 - val_accuracy: 0.8113\n",
            "Epoch 12/15\n",
            "7/7 [==============================] - 5s 756ms/step - loss: 0.2820 - accuracy: 0.8920 - val_loss: 0.2807 - val_accuracy: 0.8679\n",
            "Epoch 13/15\n",
            "7/7 [==============================] - 5s 689ms/step - loss: 0.2922 - accuracy: 0.8779 - val_loss: 0.3341 - val_accuracy: 0.8679\n",
            "Epoch 14/15\n",
            "7/7 [==============================] - 6s 912ms/step - loss: 0.2464 - accuracy: 0.8826 - val_loss: 0.3398 - val_accuracy: 0.8679\n",
            "Epoch 15/15\n",
            "7/7 [==============================] - 5s 697ms/step - loss: 0.2262 - accuracy: 0.9061 - val_loss: 0.2232 - val_accuracy: 0.8679\n",
            "2/2 [==============================] - 1s 318ms/step\n",
            "Found 213 validated image filenames belonging to 2 classes.\n",
            "Found 53 validated image filenames belonging to 2 classes.\n",
            "Epoch 1/15\n",
            "7/7 [==============================] - 7s 965ms/step - loss: 0.1952 - accuracy: 0.9202 - val_loss: 0.3088 - val_accuracy: 0.8868\n",
            "Epoch 2/15\n",
            "7/7 [==============================] - 5s 688ms/step - loss: 0.2058 - accuracy: 0.9202 - val_loss: 0.1849 - val_accuracy: 0.9245\n",
            "Epoch 3/15\n",
            "7/7 [==============================] - 6s 880ms/step - loss: 0.3109 - accuracy: 0.9014 - val_loss: 0.2835 - val_accuracy: 0.8302\n",
            "Epoch 4/15\n",
            "7/7 [==============================] - 5s 698ms/step - loss: 0.3244 - accuracy: 0.8638 - val_loss: 0.3541 - val_accuracy: 0.7547\n",
            "Epoch 5/15\n",
            "7/7 [==============================] - 7s 1s/step - loss: 0.3078 - accuracy: 0.8592 - val_loss: 0.3388 - val_accuracy: 0.7925\n",
            "Epoch 6/15\n",
            "7/7 [==============================] - 5s 681ms/step - loss: 0.2791 - accuracy: 0.8779 - val_loss: 0.3278 - val_accuracy: 0.7736\n",
            "Epoch 7/15\n",
            "7/7 [==============================] - 7s 976ms/step - loss: 0.2616 - accuracy: 0.8967 - val_loss: 0.2628 - val_accuracy: 0.8679\n",
            "Epoch 8/15\n",
            "7/7 [==============================] - 5s 692ms/step - loss: 0.2829 - accuracy: 0.8826 - val_loss: 0.2876 - val_accuracy: 0.8113\n",
            "Epoch 9/15\n",
            "7/7 [==============================] - 6s 895ms/step - loss: 0.2394 - accuracy: 0.9155 - val_loss: 0.2606 - val_accuracy: 0.8491\n",
            "Epoch 10/15\n",
            "7/7 [==============================] - 5s 692ms/step - loss: 0.2252 - accuracy: 0.9343 - val_loss: 0.2470 - val_accuracy: 0.8679\n",
            "Epoch 11/15\n",
            "7/7 [==============================] - 5s 781ms/step - loss: 0.2329 - accuracy: 0.9014 - val_loss: 0.2399 - val_accuracy: 0.8868\n",
            "Epoch 12/15\n",
            "7/7 [==============================] - 6s 743ms/step - loss: 0.2077 - accuracy: 0.9061 - val_loss: 0.3404 - val_accuracy: 0.9057\n",
            "Epoch 13/15\n",
            "7/7 [==============================] - 6s 898ms/step - loss: 0.2412 - accuracy: 0.9202 - val_loss: 0.2360 - val_accuracy: 0.8868\n",
            "Epoch 14/15\n",
            "7/7 [==============================] - 5s 706ms/step - loss: 0.1755 - accuracy: 0.9343 - val_loss: 0.1960 - val_accuracy: 0.9057\n",
            "Epoch 15/15\n",
            "7/7 [==============================] - 6s 835ms/step - loss: 0.1820 - accuracy: 0.9155 - val_loss: 0.2087 - val_accuracy: 0.8868\n",
            "2/2 [==============================] - 1s 316ms/step\n",
            "Found 213 validated image filenames belonging to 2 classes.\n",
            "Found 53 validated image filenames belonging to 2 classes.\n",
            "Epoch 1/15\n",
            "7/7 [==============================] - 6s 850ms/step - loss: 0.1680 - accuracy: 0.9296 - val_loss: 0.1418 - val_accuracy: 0.9811\n",
            "Epoch 2/15\n",
            "7/7 [==============================] - 6s 806ms/step - loss: 0.2338 - accuracy: 0.8920 - val_loss: 0.1733 - val_accuracy: 0.9434\n",
            "Epoch 3/15\n",
            "7/7 [==============================] - 5s 694ms/step - loss: 0.2002 - accuracy: 0.9155 - val_loss: 0.1403 - val_accuracy: 0.9623\n",
            "Epoch 4/15\n",
            "7/7 [==============================] - 6s 878ms/step - loss: 0.2094 - accuracy: 0.8873 - val_loss: 0.1973 - val_accuracy: 0.9245\n",
            "Epoch 5/15\n",
            "7/7 [==============================] - 5s 690ms/step - loss: 0.2690 - accuracy: 0.8967 - val_loss: 0.1856 - val_accuracy: 0.9245\n",
            "Epoch 6/15\n",
            "7/7 [==============================] - 7s 980ms/step - loss: 0.2336 - accuracy: 0.8920 - val_loss: 0.1935 - val_accuracy: 0.9623\n",
            "Epoch 7/15\n",
            "7/7 [==============================] - 5s 689ms/step - loss: 0.2251 - accuracy: 0.8967 - val_loss: 0.1735 - val_accuracy: 0.9245\n",
            "Epoch 8/15\n",
            "7/7 [==============================] - 5s 761ms/step - loss: 0.2144 - accuracy: 0.8967 - val_loss: 0.1634 - val_accuracy: 0.9623\n",
            "Epoch 9/15\n",
            "7/7 [==============================] - 5s 682ms/step - loss: 0.1968 - accuracy: 0.9014 - val_loss: 0.1980 - val_accuracy: 0.9057\n",
            "Epoch 10/15\n",
            "7/7 [==============================] - 6s 857ms/step - loss: 0.1906 - accuracy: 0.9249 - val_loss: 0.1271 - val_accuracy: 0.9623\n",
            "Epoch 11/15\n",
            "7/7 [==============================] - 5s 762ms/step - loss: 0.1977 - accuracy: 0.9296 - val_loss: 0.3053 - val_accuracy: 0.9245\n",
            "Epoch 12/15\n",
            "7/7 [==============================] - 6s 779ms/step - loss: 0.2207 - accuracy: 0.9155 - val_loss: 0.2127 - val_accuracy: 0.8868\n",
            "Epoch 13/15\n",
            "7/7 [==============================] - 6s 876ms/step - loss: 0.1999 - accuracy: 0.9202 - val_loss: 0.2541 - val_accuracy: 0.9057\n",
            "Epoch 14/15\n",
            "7/7 [==============================] - 5s 712ms/step - loss: 0.1977 - accuracy: 0.9155 - val_loss: 0.1788 - val_accuracy: 0.9245\n",
            "Epoch 15/15\n",
            "7/7 [==============================] - 6s 900ms/step - loss: 0.1648 - accuracy: 0.9249 - val_loss: 0.1895 - val_accuracy: 0.9057\n",
            "2/2 [==============================] - 1s 350ms/step\n"
          ]
        }
      ]
    },
    {
      "cell_type": "code",
      "source": [
        "avg_accuracy = np.mean(accuracy_scores)\n",
        "avg_precision = np.mean(precision_scores)\n",
        "avg_recall = np.mean(recall_scores)\n",
        "avg_f1 = np.mean(f1_scores)\n"
      ],
      "metadata": {
        "id": "uT7D8Boqf3YB"
      },
      "execution_count": 21,
      "outputs": []
    },
    {
      "cell_type": "code",
      "source": [
        "print(\"Average Accuracy:\", avg_accuracy)\n",
        "print(\"Average Precision:\", avg_precision)\n",
        "print(\"Average Recall:\", avg_recall)\n",
        "print(\"Average F1-score:\", avg_f1)"
      ],
      "metadata": {
        "colab": {
          "base_uri": "https://localhost:8080/"
        },
        "id": "J1BUNmH5f-Lm",
        "outputId": "b65fc376-6d55-4814-fb9d-c99aeb37ec95"
      },
      "execution_count": 22,
      "outputs": [
        {
          "output_type": "stream",
          "name": "stdout",
          "text": [
            "Average Accuracy: 0.6157797939385813\n",
            "Average Precision: 0.7285880414714243\n",
            "Average Recall: 0.7613412228796845\n",
            "Average F1-score: 0.7379531594315748\n"
          ]
        }
      ]
    }
  ]
}