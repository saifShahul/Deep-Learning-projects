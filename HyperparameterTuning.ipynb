{
  "nbformat": 4,
  "nbformat_minor": 0,
  "metadata": {
    "colab": {
      "provenance": []
    },
    "kernelspec": {
      "name": "python3",
      "display_name": "Python 3"
    },
    "language_info": {
      "name": "python"
    }
  },
  "cells": [
    {
      "cell_type": "code",
      "source": [
        "#21BAI1037 Fine tune the Dense neural network with various hyperparameters using grid search (MNIST dataset); Write inference about the results."
      ],
      "metadata": {
        "id": "e_LW-oa0aeEl"
      },
      "execution_count": 2,
      "outputs": []
    },
    {
      "cell_type": "code",
      "execution_count": 3,
      "metadata": {
        "colab": {
          "base_uri": "https://localhost:8080/"
        },
        "id": "NxzUmGx8YCmF",
        "outputId": "d5305cb0-b29c-4725-95ef-8434c3ff8916"
      },
      "outputs": [
        {
          "output_type": "stream",
          "name": "stdout",
          "text": [
            "Collecting keras-tuner\n",
            "  Downloading keras_tuner-1.4.6-py3-none-any.whl (128 kB)\n",
            "\u001b[?25l     \u001b[90m━━━━━━━━━━━━━━━━━━━━━━━━━━━━━━━━━━━━━━━━\u001b[0m \u001b[32m0.0/128.9 kB\u001b[0m \u001b[31m?\u001b[0m eta \u001b[36m-:--:--\u001b[0m\r\u001b[2K     \u001b[91m━━━━━━━━━━━━━━━━━━━━━━\u001b[0m\u001b[90m╺\u001b[0m\u001b[90m━━━━━━━━━━━━━━━━━\u001b[0m \u001b[32m71.7/128.9 kB\u001b[0m \u001b[31m2.0 MB/s\u001b[0m eta \u001b[36m0:00:01\u001b[0m\r\u001b[2K     \u001b[90m━━━━━━━━━━━━━━━━━━━━━━━━━━━━━━━━━━━━━━━━\u001b[0m \u001b[32m128.9/128.9 kB\u001b[0m \u001b[31m2.6 MB/s\u001b[0m eta \u001b[36m0:00:00\u001b[0m\n",
            "\u001b[?25hRequirement already satisfied: keras in /usr/local/lib/python3.10/dist-packages (from keras-tuner) (2.15.0)\n",
            "Requirement already satisfied: packaging in /usr/local/lib/python3.10/dist-packages (from keras-tuner) (23.2)\n",
            "Requirement already satisfied: requests in /usr/local/lib/python3.10/dist-packages (from keras-tuner) (2.31.0)\n",
            "Collecting kt-legacy (from keras-tuner)\n",
            "  Downloading kt_legacy-1.0.5-py3-none-any.whl (9.6 kB)\n",
            "Requirement already satisfied: charset-normalizer<4,>=2 in /usr/local/lib/python3.10/dist-packages (from requests->keras-tuner) (3.3.2)\n",
            "Requirement already satisfied: idna<4,>=2.5 in /usr/local/lib/python3.10/dist-packages (from requests->keras-tuner) (3.6)\n",
            "Requirement already satisfied: urllib3<3,>=1.21.1 in /usr/local/lib/python3.10/dist-packages (from requests->keras-tuner) (2.0.7)\n",
            "Requirement already satisfied: certifi>=2017.4.17 in /usr/local/lib/python3.10/dist-packages (from requests->keras-tuner) (2023.11.17)\n",
            "Installing collected packages: kt-legacy, keras-tuner\n",
            "Successfully installed keras-tuner-1.4.6 kt-legacy-1.0.5\n"
          ]
        }
      ],
      "source": [
        "pip install -U keras-tuner\n"
      ]
    },
    {
      "cell_type": "code",
      "source": [
        "import tensorflow as tf"
      ],
      "metadata": {
        "id": "K5sb3BAuYK8n"
      },
      "execution_count": 4,
      "outputs": []
    },
    {
      "cell_type": "code",
      "source": [
        "mnist = tf.keras.datasets.mnist\n",
        "(x_train, y_train), (x_test,y_test) = mnist.load_data()\n",
        "x_train, x_test = x_train/ 255.0, x_test / 255.0\n",
        "print(\"x_train.shape:\", x_train.shape)\n"
      ],
      "metadata": {
        "colab": {
          "base_uri": "https://localhost:8080/"
        },
        "id": "T_u8RTcVYOVv",
        "outputId": "d726f8c1-db65-4690-ed4e-f46904a82848"
      },
      "execution_count": 5,
      "outputs": [
        {
          "output_type": "stream",
          "name": "stdout",
          "text": [
            "Downloading data from https://storage.googleapis.com/tensorflow/tf-keras-datasets/mnist.npz\n",
            "11490434/11490434 [==============================] - 0s 0us/step\n",
            "x_train.shape: (60000, 28, 28)\n"
          ]
        }
      ]
    },
    {
      "cell_type": "code",
      "source": [
        "from tensorflow import keras\n",
        "from tensorflow.keras import layers\n",
        "from kerastuner.tuners import RandomSearch\n",
        "\n",
        "def build_model(hp):\n",
        "  model = keras.Sequential()\n",
        "  model.add(layers.Flatten(input_shape=(28,28)))\n",
        "\n",
        "  model.add(layers.Dense(units=hp.Int('units',\n",
        "                                      min_value = 32,\n",
        "                                      max_value = 512,\n",
        "                                      step = 128),\n",
        "                         activation = 'relu'))\n",
        "  model.add(layers.Dense(10,activation='softmax'))\n",
        "  model.compile(\n",
        "      optimizer=keras.optimizers.Adam(\n",
        "          hp.Choice('learning_rate',values=[1e-2,1e-4])),\n",
        "      loss='sparse_categorical_crossentropy',\n",
        "      metrics=['accuracy'])\n",
        "  return model\n",
        "\n"
      ],
      "metadata": {
        "id": "y5cNobcZY59j",
        "colab": {
          "base_uri": "https://localhost:8080/"
        },
        "outputId": "e624dd2f-6e4d-489f-938d-6e6071d958bc"
      },
      "execution_count": 6,
      "outputs": [
        {
          "output_type": "stream",
          "name": "stderr",
          "text": [
            "<ipython-input-6-a8e308a4ecc1>:3: DeprecationWarning: `import kerastuner` is deprecated, please use `import keras_tuner`.\n",
            "  from kerastuner.tuners import RandomSearch\n"
          ]
        }
      ]
    },
    {
      "cell_type": "code",
      "source": [
        "# creating an instance for the random search class\n",
        "tuner = RandomSearch(\n",
        "    build_model,\n",
        "    objective='val_accuracy',\n",
        "    max_trials=5,\n",
        "    executions_per_trial=3,\n",
        "    directory='my_dir',\n",
        "    project_name='lab3')\n",
        "\n"
      ],
      "metadata": {
        "id": "kBG_bOPlclbW"
      },
      "execution_count": 7,
      "outputs": []
    },
    {
      "cell_type": "code",
      "source": [
        "tuner.search_space_summary() # comparing 2 hyperparamters : no of units is a layer and learning rate\n"
      ],
      "metadata": {
        "colab": {
          "base_uri": "https://localhost:8080/"
        },
        "id": "Ce-A-NgOdcIK",
        "outputId": "d774125e-2016-47ec-f855-3c096db0d6b2"
      },
      "execution_count": 8,
      "outputs": [
        {
          "output_type": "stream",
          "name": "stdout",
          "text": [
            "Search space summary\n",
            "Default search space size: 2\n",
            "units (Int)\n",
            "{'default': None, 'conditions': [], 'min_value': 32, 'max_value': 512, 'step': 128, 'sampling': 'linear'}\n",
            "learning_rate (Choice)\n",
            "{'default': 0.01, 'conditions': [], 'values': [0.01, 0.0001], 'ordered': True}\n"
          ]
        }
      ]
    },
    {
      "cell_type": "code",
      "source": [
        "tuner.search(x_train, y_train,      #works like model.fit\n",
        "             epochs=5,\n",
        "             validation_data=(x_test,y_test))"
      ],
      "metadata": {
        "colab": {
          "base_uri": "https://localhost:8080/"
        },
        "id": "Is4FTKSndzKZ",
        "outputId": "29f00b9c-66a1-47cc-df92-c1b675b52f7c"
      },
      "execution_count": 9,
      "outputs": [
        {
          "output_type": "stream",
          "name": "stdout",
          "text": [
            "Trial 5 Complete [00h 03m 10s]\n",
            "val_accuracy: 0.9619666735331217\n",
            "\n",
            "Best val_accuracy So Far: 0.9660333395004272\n",
            "Total elapsed time: 00h 14m 59s\n"
          ]
        }
      ]
    },
    {
      "cell_type": "code",
      "source": [
        "tuner.results_summary()"
      ],
      "metadata": {
        "id": "3wS_QLQ0fpmX",
        "outputId": "0f60bf7d-bb04-47b9-80b9-649d6eb93e59",
        "colab": {
          "base_uri": "https://localhost:8080/"
        }
      },
      "execution_count": 10,
      "outputs": [
        {
          "output_type": "stream",
          "name": "stdout",
          "text": [
            "Results summary\n",
            "Results in my_dir/lab3\n",
            "Showing 10 best trials\n",
            "Objective(name=\"val_accuracy\", direction=\"max\")\n",
            "\n",
            "Trial 3 summary\n",
            "Hyperparameters:\n",
            "units: 416\n",
            "learning_rate: 0.0001\n",
            "Score: 0.9660333395004272\n",
            "\n",
            "Trial 0 summary\n",
            "Hyperparameters:\n",
            "units: 160\n",
            "learning_rate: 0.01\n",
            "Score: 0.9621000091234843\n",
            "\n",
            "Trial 4 summary\n",
            "Hyperparameters:\n",
            "units: 288\n",
            "learning_rate: 0.0001\n",
            "Score: 0.9619666735331217\n",
            "\n",
            "Trial 1 summary\n",
            "Hyperparameters:\n",
            "units: 416\n",
            "learning_rate: 0.01\n",
            "Score: 0.9602333307266235\n",
            "\n",
            "Trial 2 summary\n",
            "Hyperparameters:\n",
            "units: 160\n",
            "learning_rate: 0.0001\n",
            "Score: 0.9535666704177856\n"
          ]
        }
      ]
    },
    {
      "cell_type": "code",
      "source": [
        "def build_model2(hp):\n",
        "  model = tf.keras.Sequential()\n",
        "  model.add(layers.Flatten(input_shape=(28,28)))\n",
        "  for i in range (hp.Int('layers',2,6)):\n",
        "    model.add(tf.keras.layers.Dense(\n",
        "        units=hp.Int('units_'+str(i),50,100,step=10),\n",
        "        activation=hp.Choice('act_'+str(i),['relu','sigmoid'])))\n",
        "    model.add(tf.keras.layers.Dense(1, activation ='softmax'))\n",
        "    model.compile('adam','binary_crossentropy',metrics=['accuracy'])\n",
        "    return model"
      ],
      "metadata": {
        "id": "_Sc6vVBNbDD9"
      },
      "execution_count": 11,
      "outputs": []
    },
    {
      "cell_type": "code",
      "source": [
        "tuner2 = RandomSearch(\n",
        "    build_model,\n",
        "    objective='val_accuracy',\n",
        "    max_trials=5,\n",
        "    executions_per_trial=3,\n",
        "    directory='my_dir2',\n",
        "    project_name='lab3')\n"
      ],
      "metadata": {
        "id": "C1hstyVqb_sl"
      },
      "execution_count": 16,
      "outputs": []
    },
    {
      "cell_type": "code",
      "source": [
        "tuner2.search_space_summary()"
      ],
      "metadata": {
        "colab": {
          "base_uri": "https://localhost:8080/"
        },
        "id": "F5lZ7DVGcbf9",
        "outputId": "d1781134-5fda-43f9-95b7-a572de7c1acf"
      },
      "execution_count": 17,
      "outputs": [
        {
          "output_type": "stream",
          "name": "stdout",
          "text": [
            "Search space summary\n",
            "Default search space size: 2\n",
            "units (Int)\n",
            "{'default': None, 'conditions': [], 'min_value': 32, 'max_value': 512, 'step': 128, 'sampling': 'linear'}\n",
            "learning_rate (Choice)\n",
            "{'default': 0.01, 'conditions': [], 'values': [0.01, 0.0001], 'ordered': True}\n"
          ]
        }
      ]
    },
    {
      "cell_type": "code",
      "source": [
        "tuner2.search(x_train, y_train,      #works like model.fit\n",
        "             epochs=5,\n",
        "             validation_data=(x_test,y_test))"
      ],
      "metadata": {
        "colab": {
          "base_uri": "https://localhost:8080/"
        },
        "id": "chzLUR4Gcc6-",
        "outputId": "b2f8c2d2-f0c1-416f-f8f6-7270486dc755"
      },
      "execution_count": 18,
      "outputs": [
        {
          "output_type": "stream",
          "name": "stdout",
          "text": [
            "Trial 5 Complete [00h 03m 07s]\n",
            "val_accuracy: 0.9630333185195923\n",
            "\n",
            "Best val_accuracy So Far: 0.9630333185195923\n",
            "Total elapsed time: 00h 15m 56s\n"
          ]
        }
      ]
    },
    {
      "cell_type": "code",
      "source": [
        "tuner2.results_summary()"
      ],
      "metadata": {
        "colab": {
          "base_uri": "https://localhost:8080/"
        },
        "id": "hayDdbzkciTu",
        "outputId": "2f1055b8-5624-46bb-cd6e-0fcccd1f371e"
      },
      "execution_count": 19,
      "outputs": [
        {
          "output_type": "stream",
          "name": "stdout",
          "text": [
            "Results summary\n",
            "Results in my_dir2/lab3\n",
            "Showing 10 best trials\n",
            "Objective(name=\"val_accuracy\", direction=\"max\")\n",
            "\n",
            "Trial 4 summary\n",
            "Hyperparameters:\n",
            "units: 288\n",
            "learning_rate: 0.01\n",
            "Score: 0.9630333185195923\n",
            "\n",
            "Trial 2 summary\n",
            "Hyperparameters:\n",
            "units: 288\n",
            "learning_rate: 0.0001\n",
            "Score: 0.9622333447138468\n",
            "\n",
            "Trial 3 summary\n",
            "Hyperparameters:\n",
            "units: 416\n",
            "learning_rate: 0.01\n",
            "Score: 0.9618666569391886\n",
            "\n",
            "Trial 1 summary\n",
            "Hyperparameters:\n",
            "units: 160\n",
            "learning_rate: 0.01\n",
            "Score: 0.9608333309491476\n",
            "\n",
            "Trial 0 summary\n",
            "Hyperparameters:\n",
            "units: 160\n",
            "learning_rate: 0.0001\n",
            "Score: 0.9553666710853577\n"
          ]
        }
      ]
    }
  ]
}