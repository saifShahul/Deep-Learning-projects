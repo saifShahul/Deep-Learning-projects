{
  "metadata": {
    "kernelspec": {
      "display_name": "Python 3",
      "name": "python3"
    },
    "language_info": {
      "pygments_lexer": "ipython3",
      "nbconvert_exporter": "python",
      "version": "3.6.4",
      "file_extension": ".py",
      "codemirror_mode": {
        "name": "ipython",
        "version": 3
      },
      "name": "python",
      "mimetype": "text/x-python"
    },
    "kaggle": {
      "accelerator": "none",
      "dataSources": [
        {
          "sourceId": 320111,
          "sourceType": "datasetVersion",
          "datasetId": 134715
        }
      ],
      "dockerImageVersionId": 30055,
      "isInternetEnabled": false,
      "language": "python",
      "sourceType": "notebook",
      "isGpuEnabled": false
    },
    "colab": {
      "provenance": [],
      "gpuType": "T4"
    },
    "accelerator": "GPU"
  },
  "nbformat_minor": 0,
  "nbformat": 4,
  "cells": [
    {
      "cell_type": "code",
      "source": [
        "!pip install --upgrade pip"
      ],
      "metadata": {
        "trusted": true,
        "id": "brwzJ5nV4KBw",
        "colab": {
          "base_uri": "https://localhost:8080/"
        },
        "outputId": "a4a16c7d-8d86-4072-bb0b-50bed6c1611b"
      },
      "execution_count": 1,
      "outputs": [
        {
          "output_type": "stream",
          "name": "stdout",
          "text": [
            "Requirement already satisfied: pip in /usr/local/lib/python3.10/dist-packages (23.1.2)\n",
            "Collecting pip\n",
            "  Downloading pip-24.0-py3-none-any.whl (2.1 MB)\n",
            "\u001b[2K     \u001b[90m━━━━━━━━━━━━━━━━━━━━━━━━━━━━━━━━━━━━━━━━\u001b[0m \u001b[32m2.1/2.1 MB\u001b[0m \u001b[31m8.6 MB/s\u001b[0m eta \u001b[36m0:00:00\u001b[0m\n",
            "\u001b[?25hInstalling collected packages: pip\n",
            "  Attempting uninstall: pip\n",
            "    Found existing installation: pip 23.1.2\n",
            "    Uninstalling pip-23.1.2:\n",
            "      Successfully uninstalled pip-23.1.2\n",
            "Successfully installed pip-24.0\n"
          ]
        }
      ]
    },
    {
      "cell_type": "code",
      "source": [
        "!pip install -q tensorflow_datasets"
      ],
      "metadata": {
        "trusted": true,
        "id": "XlZHysoe4KBx",
        "colab": {
          "base_uri": "https://localhost:8080/"
        },
        "outputId": "40f0f9ce-8a05-4418-f463-52177357bc56"
      },
      "execution_count": 2,
      "outputs": [
        {
          "output_type": "stream",
          "name": "stdout",
          "text": [
            "\u001b[33mWARNING: Running pip as the 'root' user can result in broken permissions and conflicting behaviour with the system package manager. It is recommended to use a virtual environment instead: https://pip.pypa.io/warnings/venv\u001b[0m\u001b[33m\n",
            "\u001b[0m"
          ]
        }
      ]
    },
    {
      "cell_type": "code",
      "source": [
        "import numpy as np\n",
        "\n",
        "import tensorflow_datasets as tfds\n",
        "import tensorflow as tf\n",
        "\n",
        "tfds.disable_progress_bar()"
      ],
      "metadata": {
        "trusted": true,
        "id": "ZjPYiPVv4KBy"
      },
      "execution_count": 3,
      "outputs": []
    },
    {
      "cell_type": "code",
      "source": [
        "import matplotlib.pyplot as plt\n",
        "\n",
        "def plot_graphs(history, metric):\n",
        "  plt.plot(history.history[metric])\n",
        "  plt.plot(history.history['val_'+metric], '')\n",
        "  plt.xlabel(\"Epochs\")\n",
        "  plt.ylabel(metric)\n",
        "  plt.legend([metric, 'val_'+metric])"
      ],
      "metadata": {
        "trusted": true,
        "id": "pOfo8lUe4KBy"
      },
      "execution_count": 4,
      "outputs": []
    },
    {
      "cell_type": "code",
      "source": [
        "dataset, info = tfds.load('imdb_reviews', with_info=True,\n",
        "                          as_supervised=True)\n",
        "train_dataset, test_dataset = dataset['train'], dataset['test']\n",
        "\n",
        "train_dataset.element_spec"
      ],
      "metadata": {
        "trusted": true,
        "id": "A8SzMtW04KB6",
        "colab": {
          "base_uri": "https://localhost:8080/"
        },
        "outputId": "6d9b0c50-32f3-4762-faee-58052f7dc7f6"
      },
      "execution_count": 5,
      "outputs": [
        {
          "output_type": "stream",
          "name": "stdout",
          "text": [
            "Downloading and preparing dataset 80.23 MiB (download: 80.23 MiB, generated: Unknown size, total: 80.23 MiB) to /root/tensorflow_datasets/imdb_reviews/plain_text/1.0.0...\n",
            "Dataset imdb_reviews downloaded and prepared to /root/tensorflow_datasets/imdb_reviews/plain_text/1.0.0. Subsequent calls will reuse this data.\n"
          ]
        },
        {
          "output_type": "execute_result",
          "data": {
            "text/plain": [
              "(TensorSpec(shape=(), dtype=tf.string, name=None),\n",
              " TensorSpec(shape=(), dtype=tf.int64, name=None))"
            ]
          },
          "metadata": {},
          "execution_count": 5
        }
      ]
    },
    {
      "cell_type": "code",
      "source": [
        "for example, label in train_dataset.take(1):\n",
        "  print('text: ', example.numpy())\n",
        "  print('label: ', label.numpy())"
      ],
      "metadata": {
        "trusted": true,
        "id": "Nvq7PZAV4KB6",
        "colab": {
          "base_uri": "https://localhost:8080/"
        },
        "outputId": "06ecacaf-53dc-4c4a-9179-3c7fdb53ad13"
      },
      "execution_count": 6,
      "outputs": [
        {
          "output_type": "stream",
          "name": "stdout",
          "text": [
            "text:  b\"This was an absolutely terrible movie. Don't be lured in by Christopher Walken or Michael Ironside. Both are great actors, but this must simply be their worst role in history. Even their great acting could not redeem this movie's ridiculous storyline. This movie is an early nineties US propaganda piece. The most pathetic scenes were those when the Columbian rebels were making their cases for revolutions. Maria Conchita Alonso appeared phony, and her pseudo-love affair with Walken was nothing but a pathetic emotional plug in a movie that was devoid of any real meaning. I am disappointed that there are movies like this, ruining actor's like Christopher Walken's good name. I could barely sit through it.\"\n",
            "label:  0\n"
          ]
        }
      ]
    },
    {
      "cell_type": "code",
      "source": [
        "BUFFER_SIZE = 10000\n",
        "BATCH_SIZE = 64"
      ],
      "metadata": {
        "trusted": true,
        "id": "VSCWVI8G4KB7"
      },
      "execution_count": 7,
      "outputs": []
    },
    {
      "cell_type": "code",
      "source": [
        "train_dataset = train_dataset.shuffle(BUFFER_SIZE).batch(BATCH_SIZE).prefetch(tf.data.AUTOTUNE)\n",
        "test_dataset = test_dataset.batch(BATCH_SIZE).prefetch(tf.data.AUTOTUNE)"
      ],
      "metadata": {
        "trusted": true,
        "id": "mjuF2hJF4KB7"
      },
      "execution_count": 8,
      "outputs": []
    },
    {
      "cell_type": "code",
      "source": [
        "for example, label in train_dataset.take(1):\n",
        "  print('texts: ', example.numpy()[:3])\n",
        "  print()\n",
        "  print('labels: ', label.numpy()[:3])"
      ],
      "metadata": {
        "trusted": true,
        "id": "SQQOZK6J4KB7",
        "colab": {
          "base_uri": "https://localhost:8080/"
        },
        "outputId": "2d7337aa-3f89-42f7-ccd5-44f04b9c67b5"
      },
      "execution_count": 9,
      "outputs": [
        {
          "output_type": "stream",
          "name": "stdout",
          "text": [
            "texts:  [b'Hmmm, a sports team is in a plane crash, gets stranded on a snowy mountain, and is faced with the difficult decision to eat the flesh of their dead companions in order to survive. Sound familiar anyone? I refer to \"Alive\" from 1993. The only major difference here, of course, is that a big, white, drunken scare crow of a Yeti shows up a few times to drag off the dead. I guess humans taste better than yaks.<br /><br />Stupid: The man in the first scene does not have a reliable firearm when hunting the Yeti, nor does he have a backup.<br /><br />The plane crash is completely bogus. It would have either exploded in the air, exploded when it hit the ground, or become obliterated. The people would not have survived, but hey, it\\'s sci-fi.<br /><br />Stupid: They survived, and they are cold. It might be a good idea to harness some of the burning debris nearby so as not to freeze to death. Fire being warm as it is...<br /><br />WTF: The pilot has frost formed all over his face while he\\'s alive and talking, but oddly enough, no one else does.<br /><br />Stupid: One of the guys tells the others to look for matches and lighters, but there are scattered parts of the plane ON FIRE all around them.<br /><br />Stupid: They find coats and hoodies, and yet there in the cold of the Himalayas, they fail to use the hoods!<br /><br />Stupid: They\\'re staring at a pile of sticks when, I reiterate, there are pieces of the plane ALREADY BURNING.<br /><br />Stupid: The Himalayas are notorious for its storms. It would be common sense for them to collect the debris in order to reinforce their structure rather than sitting outside bickering. There are a lot of pine trees around, the branches of which make excellent insulation.<br /><br />WTF: When in doubt, use a dead man\\'s arm as a splint.<br /><br />WTF: If the one guy knows so much about the hibernation habits of squirrels, bears, and leopards in the Himalayas, then why doesn\\'t he know enough to make shelter and set traps right from the start? <br /><br />Stupid: When attempting to trap wild animals, mindless conversation in the vicinity of said trap always helps.<br /><br />WTF: Do you know how hard it would be to cut a frozen corpse with a shard of glass?! <br /><br />WTF: The group was ready and armed to fight the Yeti while the other two were standing there defenseless. The Yeti ripped out the guy\\'s heart and stomped the girl\\'s head, and the gang did nothing. There\\'s love.<br /><br />So two Yetis and a convenient avalanche to bury the evidence forever.... or so we think. Mwuhahahaa! The story continues into more idiocy but the most action occurs in the last 15 minutes, as usual. Nice thinking with the javelin and the chain, although this is some ingenuity (with the magically-appearing chain) that they lacked in the beginning of the movie when they couldn\\'t even make fire despite the fact that it was all around them.<br /><br />As is typical for the Sci-Fi Originals, the loving couple kisses at the end like nothing horrible has just happened to them (not to mention they ate human flesh and haven\\'t brushed their teeth in several days).<br /><br />The very end, however, is quote lame.'\n",
            " b\"what kind of sh*t is this? Power rangers vs Freddy? It was watchable and as good as the first film in the beginning but from the part where the protagonists get super powers in theirs dreams, it started to become childish. This sh*t should have been rated PG or PG-13 rather than R. I expected to see some very mature stuff but it was only for the 1/3 of the film. The rest are for little kids. Plus it's focused too much on Christianity. I know Freddy's a demon but there are many religions that have different ways to fight demons. Why does it always have to be Christianity? This is total Orientalism and filled with white men/westerner's superiority. Don't' watch this, show it to little kids who loves power rangers.\"\n",
            " b\"this is the first time I'm writing a comment on a movie on IMDb. but i had to write it for this one. its 3 hrs of unadulterated torture. from the starting u get the idea that the movie is gonna be bad. the acting is pathetic. I'm a big fan of Ajay devgan (loved him in bhagat singh) but he is at his worst in this movie. amitabh seems to have worked hard for this one, but somehow the fear is missing. prashant raj is a non actor. and the most irritating part of the movie is nisha kothari. i have no clue why the director took her in this movie. the background score is repetitive. somehow i felt that ramu tried to repeat a sarkar, the color theme, the background score, the camera angles, but it didn't work. PLEASE Don't WATCH IT\"]\n",
            "\n",
            "labels:  [0 0 0]\n"
          ]
        }
      ]
    },
    {
      "cell_type": "code",
      "source": [
        "VOCAB_SIZE=1500\n",
        "encoder = tf.keras.layers.experimental.preprocessing.TextVectorization(\n",
        "    max_tokens=VOCAB_SIZE)\n",
        "encoder.adapt(train_dataset.map(lambda text, label: text))"
      ],
      "metadata": {
        "trusted": true,
        "id": "FATqOg404KB8"
      },
      "execution_count": 10,
      "outputs": []
    },
    {
      "cell_type": "code",
      "source": [
        "vocab = np.array(encoder.get_vocabulary())\n",
        "vocab[:30]"
      ],
      "metadata": {
        "trusted": true,
        "id": "s75Tc2Gx4KB8",
        "colab": {
          "base_uri": "https://localhost:8080/"
        },
        "outputId": "73a4b0d4-f6c1-4431-ced8-4859853768d1"
      },
      "execution_count": 11,
      "outputs": [
        {
          "output_type": "execute_result",
          "data": {
            "text/plain": [
              "array(['', '[UNK]', 'the', 'and', 'a', 'of', 'to', 'is', 'in', 'it', 'i',\n",
              "       'this', 'that', 'br', 'was', 'as', 'for', 'with', 'movie', 'but',\n",
              "       'film', 'on', 'not', 'you', 'are', 'his', 'have', 'he', 'be',\n",
              "       'one'], dtype='<U14')"
            ]
          },
          "metadata": {},
          "execution_count": 11
        }
      ]
    },
    {
      "cell_type": "code",
      "source": [
        "encoded_example = encoder(example)[:3].numpy()\n",
        "encoded_example"
      ],
      "metadata": {
        "trusted": true,
        "id": "xCFeWPRD4KB9",
        "colab": {
          "base_uri": "https://localhost:8080/"
        },
        "outputId": "d47fa15d-5777-45bd-c545-1e2c9052e461"
      },
      "execution_count": 12,
      "outputs": [
        {
          "output_type": "execute_result",
          "data": {
            "text/plain": [
              "array([[  1,   4,   1, ...,   0,   0,   0],\n",
              "       [ 49, 238,   5, ...,   0,   0,   0],\n",
              "       [ 11,   7,   2, ...,   0,   0,   0]])"
            ]
          },
          "metadata": {},
          "execution_count": 12
        }
      ]
    },
    {
      "cell_type": "code",
      "source": [
        "for n in range(3):\n",
        "  print(\"Original: \", example[n].numpy())\n",
        "  print(\"Round-trip: \", \" \".join(vocab[encoded_example[n]]))\n",
        "  print()"
      ],
      "metadata": {
        "trusted": true,
        "id": "5j1mZ_jQ4KB9",
        "colab": {
          "base_uri": "https://localhost:8080/"
        },
        "outputId": "ab31db42-17e5-4c8c-ee4e-1862a66c9843"
      },
      "execution_count": 13,
      "outputs": [
        {
          "output_type": "stream",
          "name": "stdout",
          "text": [
            "Original:  b'Hmmm, a sports team is in a plane crash, gets stranded on a snowy mountain, and is faced with the difficult decision to eat the flesh of their dead companions in order to survive. Sound familiar anyone? I refer to \"Alive\" from 1993. The only major difference here, of course, is that a big, white, drunken scare crow of a Yeti shows up a few times to drag off the dead. I guess humans taste better than yaks.<br /><br />Stupid: The man in the first scene does not have a reliable firearm when hunting the Yeti, nor does he have a backup.<br /><br />The plane crash is completely bogus. It would have either exploded in the air, exploded when it hit the ground, or become obliterated. The people would not have survived, but hey, it\\'s sci-fi.<br /><br />Stupid: They survived, and they are cold. It might be a good idea to harness some of the burning debris nearby so as not to freeze to death. Fire being warm as it is...<br /><br />WTF: The pilot has frost formed all over his face while he\\'s alive and talking, but oddly enough, no one else does.<br /><br />Stupid: One of the guys tells the others to look for matches and lighters, but there are scattered parts of the plane ON FIRE all around them.<br /><br />Stupid: They find coats and hoodies, and yet there in the cold of the Himalayas, they fail to use the hoods!<br /><br />Stupid: They\\'re staring at a pile of sticks when, I reiterate, there are pieces of the plane ALREADY BURNING.<br /><br />Stupid: The Himalayas are notorious for its storms. It would be common sense for them to collect the debris in order to reinforce their structure rather than sitting outside bickering. There are a lot of pine trees around, the branches of which make excellent insulation.<br /><br />WTF: When in doubt, use a dead man\\'s arm as a splint.<br /><br />WTF: If the one guy knows so much about the hibernation habits of squirrels, bears, and leopards in the Himalayas, then why doesn\\'t he know enough to make shelter and set traps right from the start? <br /><br />Stupid: When attempting to trap wild animals, mindless conversation in the vicinity of said trap always helps.<br /><br />WTF: Do you know how hard it would be to cut a frozen corpse with a shard of glass?! <br /><br />WTF: The group was ready and armed to fight the Yeti while the other two were standing there defenseless. The Yeti ripped out the guy\\'s heart and stomped the girl\\'s head, and the gang did nothing. There\\'s love.<br /><br />So two Yetis and a convenient avalanche to bury the evidence forever.... or so we think. Mwuhahahaa! The story continues into more idiocy but the most action occurs in the last 15 minutes, as usual. Nice thinking with the javelin and the chain, although this is some ingenuity (with the magically-appearing chain) that they lacked in the beginning of the movie when they couldn\\'t even make fire despite the fact that it was all around them.<br /><br />As is typical for the Sci-Fi Originals, the loving couple kisses at the end like nothing horrible has just happened to them (not to mention they ate human flesh and haven\\'t brushed their teeth in several days).<br /><br />The very end, however, is quote lame.'\n",
            "Round-trip:  [UNK] a [UNK] team is in a [UNK] [UNK] gets [UNK] on a [UNK] [UNK] and is [UNK] with the difficult [UNK] to [UNK] the [UNK] of their dead [UNK] in order to [UNK] sound familiar anyone i [UNK] to alive from [UNK] the only major difference here of course is that a big white [UNK] [UNK] [UNK] of a [UNK] shows up a few times to [UNK] off the dead i guess [UNK] taste better than [UNK] br stupid the man in the first scene does not have a [UNK] [UNK] when [UNK] the [UNK] nor does he have a [UNK] br the [UNK] [UNK] is completely [UNK] it would have either [UNK] in the air [UNK] when it hit the [UNK] or become [UNK] the people would not have [UNK] but hey its [UNK] br stupid they [UNK] and they are cold it might be a good idea to [UNK] some of the [UNK] [UNK] [UNK] so as not to [UNK] to death fire being [UNK] as it [UNK] br [UNK] the [UNK] has [UNK] [UNK] all over his face while hes alive and talking but [UNK] enough no one else [UNK] br stupid one of the guys tells the others to look for [UNK] and [UNK] but there are [UNK] parts of the [UNK] on fire all around [UNK] br stupid they find [UNK] and [UNK] and yet there in the cold of the [UNK] they [UNK] to use the [UNK] br stupid theyre [UNK] at a [UNK] of [UNK] when i [UNK] there are pieces of the [UNK] already [UNK] br stupid the [UNK] are [UNK] for its [UNK] it would be common sense for them to [UNK] the [UNK] in order to [UNK] their [UNK] rather than sitting outside [UNK] there are a lot of [UNK] [UNK] around the [UNK] of which make excellent [UNK] br [UNK] when in doubt use a dead mans [UNK] as a [UNK] br [UNK] if the one guy knows so much about the [UNK] [UNK] of [UNK] [UNK] and [UNK] in the [UNK] then why doesnt he know enough to make [UNK] and set [UNK] right from the start br br stupid when [UNK] to [UNK] wild animals [UNK] [UNK] in the [UNK] of said [UNK] always [UNK] br [UNK] do you know how hard it would be to cut a [UNK] [UNK] with a [UNK] of [UNK] br br [UNK] the group was [UNK] and [UNK] to fight the [UNK] while the other two were [UNK] there [UNK] the [UNK] [UNK] out the guys heart and [UNK] the girls head and the gang did nothing theres [UNK] br so two [UNK] and a [UNK] [UNK] to [UNK] the [UNK] forever or so we think [UNK] the story [UNK] into more [UNK] but the most action [UNK] in the last 15 minutes as usual nice thinking with the [UNK] and the [UNK] although this is some [UNK] with the [UNK] [UNK] that they [UNK] in the beginning of the movie when they couldnt even make fire despite the fact that it was all around [UNK] br as is typical for the scifi [UNK] the [UNK] couple [UNK] at the end like nothing horrible has just happened to them not to mention they [UNK] human [UNK] and havent [UNK] their [UNK] in several [UNK] br the very end however is [UNK] lame                                                                                                                                                                                                                                                                                                                                                                                        \n",
            "\n",
            "Original:  b\"what kind of sh*t is this? Power rangers vs Freddy? It was watchable and as good as the first film in the beginning but from the part where the protagonists get super powers in theirs dreams, it started to become childish. This sh*t should have been rated PG or PG-13 rather than R. I expected to see some very mature stuff but it was only for the 1/3 of the film. The rest are for little kids. Plus it's focused too much on Christianity. I know Freddy's a demon but there are many religions that have different ways to fight demons. Why does it always have to be Christianity? This is total Orientalism and filled with white men/westerner's superiority. Don't' watch this, show it to little kids who loves power rangers.\"\n",
            "Round-trip:  what kind of [UNK] is this power [UNK] [UNK] [UNK] it was [UNK] and as good as the first film in the beginning but from the part where the [UNK] get [UNK] [UNK] in [UNK] dreams it started to become [UNK] this [UNK] should have been rated [UNK] or [UNK] rather than [UNK] i expected to see some very [UNK] stuff but it was only for the [UNK] of the film the rest are for little kids plus its [UNK] too much on [UNK] i know [UNK] a [UNK] but there are many [UNK] that have different ways to fight [UNK] why does it always have to be [UNK] this is total [UNK] and filled with white [UNK] [UNK] dont watch this show it to little kids who loves power [UNK]                                                                                                                                                                                                                                                                                                                                                                                                                                                                                                                                                                                                                                                                                                                                                                                                                                       \n",
            "\n",
            "Original:  b\"this is the first time I'm writing a comment on a movie on IMDb. but i had to write it for this one. its 3 hrs of unadulterated torture. from the starting u get the idea that the movie is gonna be bad. the acting is pathetic. I'm a big fan of Ajay devgan (loved him in bhagat singh) but he is at his worst in this movie. amitabh seems to have worked hard for this one, but somehow the fear is missing. prashant raj is a non actor. and the most irritating part of the movie is nisha kothari. i have no clue why the director took her in this movie. the background score is repetitive. somehow i felt that ramu tried to repeat a sarkar, the color theme, the background score, the camera angles, but it didn't work. PLEASE Don't WATCH IT\"\n",
            "Round-trip:  this is the first time im writing a comment on a movie on imdb but i had to write it for this one its 3 [UNK] of [UNK] [UNK] from the [UNK] [UNK] get the idea that the movie is [UNK] be bad the acting is pathetic im a big fan of [UNK] [UNK] loved him in [UNK] [UNK] but he is at his worst in this movie [UNK] seems to have worked hard for this one but somehow the fear is missing [UNK] [UNK] is a [UNK] actor and the most [UNK] part of the movie is [UNK] [UNK] i have no [UNK] why the director took her in this movie the background score is [UNK] somehow i felt that [UNK] tried to [UNK] a [UNK] the color theme the background score the camera [UNK] but it didnt work please dont watch it                                                                                                                                                                                                                                                                                                                                                                                                                                                                                                                                                                                                                                                                                                                                                                                                                          \n",
            "\n"
          ]
        }
      ]
    },
    {
      "cell_type": "code",
      "source": [
        "#multi-layer lstm\n",
        "model = tf.keras.Sequential([\n",
        "    encoder,\n",
        "    tf.keras.layers.Embedding(\n",
        "        input_dim=len(encoder.get_vocabulary()),\n",
        "        output_dim=64,\n",
        "        # Use masking to handle the variable sequence lengths\n",
        "        mask_zero=True),\n",
        "    tf.keras.layers.Bidirectional(tf.keras.layers.LSTM(64,  return_sequences=True)),\n",
        "    tf.keras.layers.Bidirectional(tf.keras.layers.LSTM(32)),\n",
        "    tf.keras.layers.Dense(64, activation='relu'),\n",
        "    tf.keras.layers.Dropout(0.5),\n",
        "    tf.keras.layers.Dense(1)\n",
        "])"
      ],
      "metadata": {
        "trusted": true,
        "id": "VtwdW-m64KB9"
      },
      "execution_count": 14,
      "outputs": []
    },
    {
      "cell_type": "markdown",
      "source": [
        "*The embedding layer uses masking to handle the varying sequence-lengths. All the layers after the Embedding support masking.*"
      ],
      "metadata": {
        "id": "li92xfiw4KB9"
      }
    },
    {
      "cell_type": "code",
      "source": [
        "print([layer.supports_masking for layer in model.layers])"
      ],
      "metadata": {
        "trusted": true,
        "id": "nSjpSesf4KB9",
        "colab": {
          "base_uri": "https://localhost:8080/"
        },
        "outputId": "4ef9cf37-7610-422f-d6f4-4917ec986dac"
      },
      "execution_count": 15,
      "outputs": [
        {
          "output_type": "stream",
          "name": "stdout",
          "text": [
            "[False, True, True, True, True, True, True]\n"
          ]
        }
      ]
    },
    {
      "cell_type": "code",
      "source": [
        "# predict on a sample text without padding.\n",
        "\n",
        "sample_text = ('The movie was cool. The animation and the graphics '\n",
        "               'were out of this world. I would recommend this movie.')\n",
        "predictions = model.predict(np.array([sample_text]))\n",
        "print(predictions[0])"
      ],
      "metadata": {
        "trusted": true,
        "id": "t6hhV51e4KB9",
        "colab": {
          "base_uri": "https://localhost:8080/"
        },
        "outputId": "f78b7979-6718-43b9-c66c-2f50587e6bef"
      },
      "execution_count": 16,
      "outputs": [
        {
          "output_type": "stream",
          "name": "stdout",
          "text": [
            "1/1 [==============================] - 6s 6s/step\n",
            "[0.00835319]\n"
          ]
        }
      ]
    },
    {
      "cell_type": "code",
      "source": [
        "# predict on a sample text with padding\n",
        "\n",
        "padding = \"the \" * 2000\n",
        "predictions = model.predict(np.array([sample_text, padding]))\n",
        "print(predictions[0])"
      ],
      "metadata": {
        "trusted": true,
        "id": "PVPA3jXy4KB9",
        "colab": {
          "base_uri": "https://localhost:8080/"
        },
        "outputId": "e913911d-c348-46ff-8184-d00373ef83b6"
      },
      "execution_count": 17,
      "outputs": [
        {
          "output_type": "stream",
          "name": "stdout",
          "text": [
            "1/1 [==============================] - 0s 130ms/step\n",
            "[0.00835319]\n"
          ]
        }
      ]
    },
    {
      "cell_type": "code",
      "source": [
        "model.compile(loss=tf.keras.losses.BinaryCrossentropy(from_logits=True),\n",
        "              optimizer=tf.keras.optimizers.Adamax(1e-3),\n",
        "              metrics=['accuracy'])"
      ],
      "metadata": {
        "trusted": true,
        "id": "6gXWrO8p4KB9"
      },
      "execution_count": 18,
      "outputs": []
    },
    {
      "cell_type": "code",
      "source": [
        "history = model.fit(train_dataset, epochs=2,\n",
        "                    validation_data=test_dataset,\n",
        "                    validation_steps=4)"
      ],
      "metadata": {
        "trusted": true,
        "id": "UbgEGPUc4KB-",
        "colab": {
          "base_uri": "https://localhost:8080/"
        },
        "outputId": "1cb0b283-f477-4edf-e92d-9f7fc8a5a8de"
      },
      "execution_count": 19,
      "outputs": [
        {
          "output_type": "stream",
          "name": "stdout",
          "text": [
            "Epoch 1/2\n",
            "391/391 [==============================] - 83s 169ms/step - loss: 0.5075 - accuracy: 0.7134 - val_loss: 0.3918 - val_accuracy: 0.8398\n",
            "Epoch 2/2\n",
            "391/391 [==============================] - 46s 116ms/step - loss: 0.3249 - accuracy: 0.8605 - val_loss: 0.3710 - val_accuracy: 0.8516\n"
          ]
        }
      ]
    },
    {
      "cell_type": "code",
      "source": [
        "test_loss, test_acc = model.evaluate(test_dataset)\n",
        "\n",
        "print('Test Loss: {}'.format(test_loss))\n",
        "print('Test Accuracy: {}'.format(test_acc))"
      ],
      "metadata": {
        "trusted": true,
        "id": "3ZqrHu1a4KB-",
        "colab": {
          "base_uri": "https://localhost:8080/"
        },
        "outputId": "507f94c0-0068-458a-bddd-c5cc297dfa17"
      },
      "execution_count": 20,
      "outputs": [
        {
          "output_type": "stream",
          "name": "stdout",
          "text": [
            "391/391 [==============================] - 20s 51ms/step - loss: 0.3084 - accuracy: 0.8743\n",
            "Test Loss: 0.3084041476249695\n",
            "Test Accuracy: 0.8742799758911133\n"
          ]
        }
      ]
    },
    {
      "cell_type": "code",
      "source": [
        "# plt.figure(figsize=(16,8))\n",
        "# plt.subplot(1,2,1)\n",
        "# plot_graphs(history, 'accuracy')\n",
        "# plt.ylim(None,1)\n",
        "# plt.subplot(1,2,2)\n",
        "# plot_graphs(history, 'loss')\n",
        "# plt.ylim(0,None)"
      ],
      "metadata": {
        "trusted": true,
        "id": "gmKQc6DD4KB-"
      },
      "execution_count": 21,
      "outputs": []
    },
    {
      "cell_type": "code",
      "source": [
        "sample_text = ('The movie was cool. The animation and the graphics '\n",
        "               'were out of this world. I would recommend this movie.')\n",
        "predictions = model.predict(np.array([sample_text]))"
      ],
      "metadata": {
        "trusted": true,
        "id": "ZEz2Ypgj4KB-",
        "colab": {
          "base_uri": "https://localhost:8080/"
        },
        "outputId": "bd1de540-9175-4e66-ec6e-a102bffe441c"
      },
      "execution_count": 22,
      "outputs": [
        {
          "output_type": "stream",
          "name": "stdout",
          "text": [
            "1/1 [==============================] - 5s 5s/step\n"
          ]
        }
      ]
    },
    {
      "cell_type": "code",
      "source": [
        "model = tf.keras.Sequential([\n",
        "    encoder,\n",
        "    tf.keras.layers.Embedding(len(encoder.get_vocabulary()), 64, mask_zero=True),\n",
        "    tf.keras.layers.Bidirectional(tf.keras.layers.GRU(64,  return_sequences=True)),\n",
        "    tf.keras.layers.Bidirectional(tf.keras.layers.GRU(32)),\n",
        "    tf.keras.layers.Dense(64, activation='relu'),\n",
        "    tf.keras.layers.Dropout(0.5),\n",
        "    tf.keras.layers.Dense(1)\n",
        "])"
      ],
      "metadata": {
        "trusted": true,
        "id": "xD2c658w4KB-"
      },
      "execution_count": 23,
      "outputs": []
    },
    {
      "cell_type": "code",
      "source": [
        "model.compile(loss=tf.keras.losses.BinaryCrossentropy(from_logits=True),\n",
        "              optimizer=tf.keras.optimizers.Adamax(1e-3),\n",
        "              metrics=['accuracy'])"
      ],
      "metadata": {
        "trusted": true,
        "id": "uRfY_85s4KB_"
      },
      "execution_count": 24,
      "outputs": []
    },
    {
      "cell_type": "code",
      "source": [
        "history = model.fit(train_dataset, epochs=2,\n",
        "                    validation_data=test_dataset,\n",
        "                    validation_steps=4)"
      ],
      "metadata": {
        "trusted": true,
        "colab": {
          "base_uri": "https://localhost:8080/"
        },
        "id": "9nEsrZBo4KB_",
        "outputId": "e632d915-919e-408d-c10e-60a78e3a2133"
      },
      "execution_count": 25,
      "outputs": [
        {
          "output_type": "stream",
          "name": "stdout",
          "text": [
            "Epoch 1/2\n",
            "391/391 [==============================] - 74s 152ms/step - loss: 0.5397 - accuracy: 0.6694 - val_loss: 0.3997 - val_accuracy: 0.8047\n",
            "Epoch 2/2\n",
            "391/391 [==============================] - 46s 116ms/step - loss: 0.3274 - accuracy: 0.8566 - val_loss: 0.3601 - val_accuracy: 0.8477\n"
          ]
        }
      ]
    },
    {
      "cell_type": "code",
      "source": [
        "test_loss, test_acc = model.evaluate(test_dataset)\n",
        "\n",
        "print('Test Loss: {}'.format(test_loss))\n",
        "print('Test Accuracy: {}'.format(test_acc))"
      ],
      "metadata": {
        "trusted": true,
        "id": "1i9wVbvf4KB_",
        "colab": {
          "base_uri": "https://localhost:8080/"
        },
        "outputId": "bb70b0ce-fdbd-41a8-ea3c-55d857a5fddf"
      },
      "execution_count": 26,
      "outputs": [
        {
          "output_type": "stream",
          "name": "stdout",
          "text": [
            "391/391 [==============================] - 19s 49ms/step - loss: 0.3024 - accuracy: 0.8616\n",
            "Test Loss: 0.30237656831741333\n",
            "Test Accuracy: 0.8615999817848206\n"
          ]
        }
      ]
    },
    {
      "cell_type": "code",
      "source": [
        "# predict on a sample text without padding.\n",
        "\n",
        "sample_text = ('The movie was awesome and the first part was intesting')\n",
        "predictions = model.predict(np.array([sample_text]))\n",
        "print(predictions)"
      ],
      "metadata": {
        "trusted": true,
        "id": "9e99zX6s4KB_",
        "colab": {
          "base_uri": "https://localhost:8080/"
        },
        "outputId": "78e752e5-e856-4f66-af2a-dd4faf5b42c0"
      },
      "execution_count": 29,
      "outputs": [
        {
          "output_type": "stream",
          "name": "stdout",
          "text": [
            "1/1 [==============================] - 0s 22ms/step\n",
            "[[1.1515176]]\n"
          ]
        }
      ]
    },
    {
      "cell_type": "code",
      "source": [
        "plt.figure(figsize=(16,6))\n",
        "plt.subplot(1,2,1)\n",
        "plot_graphs(history, 'accuracy')\n",
        "plt.subplot(1,2,2)\n",
        "plot_graphs(history, 'loss')"
      ],
      "metadata": {
        "trusted": true,
        "id": "5m07nC0v4KB_",
        "colab": {
          "base_uri": "https://localhost:8080/",
          "height": 478
        },
        "outputId": "ea824bfa-f44c-469f-8aa1-5464d829602a"
      },
      "execution_count": 28,
      "outputs": [
        {
          "output_type": "display_data",
          "data": {
            "text/plain": [
              "<Figure size 1600x600 with 2 Axes>"
            ],
            "image/png": "[encoded data removed]"
          },
          "metadata": {}
        }
      ]
    }
  ]
}